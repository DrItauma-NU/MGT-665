{
 "cells": [
  {
   "attachments": {},
   "cell_type": "markdown",
   "metadata": {},
   "source": [
    "# Simple Linear Regression\n",
    "Dr. Itauma\n",
    "## Objectives\n",
    "After this lab you will be able to:\n",
    "* Use scikit-learn to implement simple linear regression\n",
    "* Create model, train it, test it and use the model"
   ]
  },
  {
   "attachments": {},
   "cell_type": "markdown",
   "metadata": {},
   "source": [
    "# Importing Needed packages"
   ]
  },
  {
   "cell_type": "code",
   "execution_count": 2,
   "metadata": {},
   "outputs": [],
   "source": [
    "import matplotlib.pyplot as plt\n",
    "import pandas as pd\n",
    "import numpy as np\n",
    "import pylab as pl\n",
    "import wget\n",
    "%matplotlib inline\n"
   ]
  },
  {
   "attachments": {},
   "cell_type": "markdown",
   "metadata": {},
   "source": [
    "# Downloading Data"
   ]
  },
  {
   "cell_type": "code",
   "execution_count": 8,
   "metadata": {},
   "outputs": [],
   "source": [
    "url = 'https://raw.githubusercontent.com/DrItauma-NU/MGT-665/main/DataFiles/Airfares.csv'\n",
    "Airfares = wget.download(url)\n"
   ]
  },
  {
   "attachments": {},
   "cell_type": "markdown",
   "metadata": {},
   "source": [
    "# Reading the data"
   ]
  },
  {
   "cell_type": "code",
   "execution_count": 3,
   "metadata": {},
   "outputs": [
    {
     "data": {
      "text/html": [
       "<div>\n",
       "<style scoped>\n",
       "    .dataframe tbody tr th:only-of-type {\n",
       "        vertical-align: middle;\n",
       "    }\n",
       "\n",
       "    .dataframe tbody tr th {\n",
       "        vertical-align: top;\n",
       "    }\n",
       "\n",
       "    .dataframe thead th {\n",
       "        text-align: right;\n",
       "    }\n",
       "</style>\n",
       "<table border=\"1\" class=\"dataframe\">\n",
       "  <thead>\n",
       "    <tr style=\"text-align: right;\">\n",
       "      <th></th>\n",
       "      <th>S_CODE</th>\n",
       "      <th>S_CITY</th>\n",
       "      <th>E_CODE</th>\n",
       "      <th>E_CITY</th>\n",
       "      <th>COUPON</th>\n",
       "      <th>NEW</th>\n",
       "      <th>VACATION</th>\n",
       "      <th>SW</th>\n",
       "      <th>HI</th>\n",
       "      <th>S_INCOME</th>\n",
       "      <th>E_INCOME</th>\n",
       "      <th>S_POP</th>\n",
       "      <th>E_POP</th>\n",
       "      <th>SLOT</th>\n",
       "      <th>GATE</th>\n",
       "      <th>DISTANCE</th>\n",
       "      <th>PAX</th>\n",
       "      <th>FARE</th>\n",
       "    </tr>\n",
       "  </thead>\n",
       "  <tbody>\n",
       "    <tr>\n",
       "      <th>0</th>\n",
       "      <td>*</td>\n",
       "      <td>Dallas/Fort Worth   TX</td>\n",
       "      <td>*</td>\n",
       "      <td>Amarillo            TX</td>\n",
       "      <td>1.00</td>\n",
       "      <td>3</td>\n",
       "      <td>No</td>\n",
       "      <td>Yes</td>\n",
       "      <td>5291.99</td>\n",
       "      <td>28637.0</td>\n",
       "      <td>21112.0</td>\n",
       "      <td>3036732</td>\n",
       "      <td>205711</td>\n",
       "      <td>Free</td>\n",
       "      <td>Free</td>\n",
       "      <td>312</td>\n",
       "      <td>7864</td>\n",
       "      <td>64.11</td>\n",
       "    </tr>\n",
       "    <tr>\n",
       "      <th>1</th>\n",
       "      <td>*</td>\n",
       "      <td>Atlanta             GA</td>\n",
       "      <td>*</td>\n",
       "      <td>Baltimore/Wash Intl MD</td>\n",
       "      <td>1.06</td>\n",
       "      <td>3</td>\n",
       "      <td>No</td>\n",
       "      <td>No</td>\n",
       "      <td>5419.16</td>\n",
       "      <td>26993.0</td>\n",
       "      <td>29838.0</td>\n",
       "      <td>3532657</td>\n",
       "      <td>7145897</td>\n",
       "      <td>Free</td>\n",
       "      <td>Free</td>\n",
       "      <td>576</td>\n",
       "      <td>8820</td>\n",
       "      <td>174.47</td>\n",
       "    </tr>\n",
       "    <tr>\n",
       "      <th>2</th>\n",
       "      <td>*</td>\n",
       "      <td>Boston              MA</td>\n",
       "      <td>*</td>\n",
       "      <td>Baltimore/Wash Intl MD</td>\n",
       "      <td>1.06</td>\n",
       "      <td>3</td>\n",
       "      <td>No</td>\n",
       "      <td>No</td>\n",
       "      <td>9185.28</td>\n",
       "      <td>30124.0</td>\n",
       "      <td>29838.0</td>\n",
       "      <td>5787293</td>\n",
       "      <td>7145897</td>\n",
       "      <td>Free</td>\n",
       "      <td>Free</td>\n",
       "      <td>364</td>\n",
       "      <td>6452</td>\n",
       "      <td>207.76</td>\n",
       "    </tr>\n",
       "    <tr>\n",
       "      <th>3</th>\n",
       "      <td>ORD</td>\n",
       "      <td>Chicago             IL</td>\n",
       "      <td>*</td>\n",
       "      <td>Baltimore/Wash Intl MD</td>\n",
       "      <td>1.06</td>\n",
       "      <td>3</td>\n",
       "      <td>No</td>\n",
       "      <td>Yes</td>\n",
       "      <td>2657.35</td>\n",
       "      <td>29260.0</td>\n",
       "      <td>29838.0</td>\n",
       "      <td>7830332</td>\n",
       "      <td>7145897</td>\n",
       "      <td>Controlled</td>\n",
       "      <td>Free</td>\n",
       "      <td>612</td>\n",
       "      <td>25144</td>\n",
       "      <td>85.47</td>\n",
       "    </tr>\n",
       "    <tr>\n",
       "      <th>4</th>\n",
       "      <td>MDW</td>\n",
       "      <td>Chicago             IL</td>\n",
       "      <td>*</td>\n",
       "      <td>Baltimore/Wash Intl MD</td>\n",
       "      <td>1.06</td>\n",
       "      <td>3</td>\n",
       "      <td>No</td>\n",
       "      <td>Yes</td>\n",
       "      <td>2657.35</td>\n",
       "      <td>29260.0</td>\n",
       "      <td>29838.0</td>\n",
       "      <td>7830332</td>\n",
       "      <td>7145897</td>\n",
       "      <td>Free</td>\n",
       "      <td>Free</td>\n",
       "      <td>612</td>\n",
       "      <td>25144</td>\n",
       "      <td>85.47</td>\n",
       "    </tr>\n",
       "  </tbody>\n",
       "</table>\n",
       "</div>"
      ],
      "text/plain": [
       "  S_CODE                  S_CITY E_CODE                  E_CITY  COUPON  NEW  \\\n",
       "0      *  Dallas/Fort Worth   TX      *  Amarillo            TX    1.00    3   \n",
       "1      *  Atlanta             GA      *  Baltimore/Wash Intl MD    1.06    3   \n",
       "2      *  Boston              MA      *  Baltimore/Wash Intl MD    1.06    3   \n",
       "3    ORD  Chicago             IL      *  Baltimore/Wash Intl MD    1.06    3   \n",
       "4    MDW  Chicago             IL      *  Baltimore/Wash Intl MD    1.06    3   \n",
       "\n",
       "  VACATION   SW       HI  S_INCOME  E_INCOME    S_POP    E_POP        SLOT  \\\n",
       "0       No  Yes  5291.99   28637.0   21112.0  3036732   205711        Free   \n",
       "1       No   No  5419.16   26993.0   29838.0  3532657  7145897        Free   \n",
       "2       No   No  9185.28   30124.0   29838.0  5787293  7145897        Free   \n",
       "3       No  Yes  2657.35   29260.0   29838.0  7830332  7145897  Controlled   \n",
       "4       No  Yes  2657.35   29260.0   29838.0  7830332  7145897        Free   \n",
       "\n",
       "   GATE  DISTANCE    PAX    FARE  \n",
       "0  Free       312   7864   64.11  \n",
       "1  Free       576   8820  174.47  \n",
       "2  Free       364   6452  207.76  \n",
       "3  Free       612  25144   85.47  \n",
       "4  Free       612  25144   85.47  "
      ]
     },
     "execution_count": 3,
     "metadata": {},
     "output_type": "execute_result"
    }
   ],
   "source": [
    "df = pd.read_csv(\"Airfares.csv\")\n",
    "\n",
    "# take a look at the dataset\n",
    "df.head()\n"
   ]
  },
  {
   "attachments": {},
   "cell_type": "markdown",
   "metadata": {},
   "source": [
    "# Data Exploration\n",
    "Let's explore the data"
   ]
  },
  {
   "cell_type": "code",
   "execution_count": 11,
   "metadata": {},
   "outputs": [
    {
     "data": {
      "text/html": [
       "<div>\n",
       "<style scoped>\n",
       "    .dataframe tbody tr th:only-of-type {\n",
       "        vertical-align: middle;\n",
       "    }\n",
       "\n",
       "    .dataframe tbody tr th {\n",
       "        vertical-align: top;\n",
       "    }\n",
       "\n",
       "    .dataframe thead th {\n",
       "        text-align: right;\n",
       "    }\n",
       "</style>\n",
       "<table border=\"1\" class=\"dataframe\">\n",
       "  <thead>\n",
       "    <tr style=\"text-align: right;\">\n",
       "      <th></th>\n",
       "      <th>COUPON</th>\n",
       "      <th>NEW</th>\n",
       "      <th>HI</th>\n",
       "      <th>S_INCOME</th>\n",
       "      <th>E_INCOME</th>\n",
       "      <th>S_POP</th>\n",
       "      <th>E_POP</th>\n",
       "      <th>DISTANCE</th>\n",
       "      <th>PAX</th>\n",
       "      <th>FARE</th>\n",
       "    </tr>\n",
       "  </thead>\n",
       "  <tbody>\n",
       "    <tr>\n",
       "      <th>count</th>\n",
       "      <td>638.000000</td>\n",
       "      <td>638.000000</td>\n",
       "      <td>638.000000</td>\n",
       "      <td>638.000000</td>\n",
       "      <td>638.000000</td>\n",
       "      <td>6.380000e+02</td>\n",
       "      <td>6.380000e+02</td>\n",
       "      <td>638.000000</td>\n",
       "      <td>638.000000</td>\n",
       "      <td>638.000000</td>\n",
       "    </tr>\n",
       "    <tr>\n",
       "      <th>mean</th>\n",
       "      <td>1.202335</td>\n",
       "      <td>2.753918</td>\n",
       "      <td>4442.141129</td>\n",
       "      <td>27759.860502</td>\n",
       "      <td>27663.727273</td>\n",
       "      <td>4.557004e+06</td>\n",
       "      <td>3.194503e+06</td>\n",
       "      <td>975.653605</td>\n",
       "      <td>12782.214734</td>\n",
       "      <td>160.876677</td>\n",
       "    </tr>\n",
       "    <tr>\n",
       "      <th>std</th>\n",
       "      <td>0.203821</td>\n",
       "      <td>0.760448</td>\n",
       "      <td>1724.267051</td>\n",
       "      <td>3596.207837</td>\n",
       "      <td>4611.325018</td>\n",
       "      <td>3.010985e+06</td>\n",
       "      <td>2.735604e+06</td>\n",
       "      <td>646.242403</td>\n",
       "      <td>13202.228860</td>\n",
       "      <td>76.022436</td>\n",
       "    </tr>\n",
       "    <tr>\n",
       "      <th>min</th>\n",
       "      <td>1.000000</td>\n",
       "      <td>0.000000</td>\n",
       "      <td>1230.480000</td>\n",
       "      <td>14600.000000</td>\n",
       "      <td>14600.000000</td>\n",
       "      <td>2.983800e+04</td>\n",
       "      <td>1.117450e+05</td>\n",
       "      <td>114.000000</td>\n",
       "      <td>1504.000000</td>\n",
       "      <td>42.470000</td>\n",
       "    </tr>\n",
       "    <tr>\n",
       "      <th>25%</th>\n",
       "      <td>1.040000</td>\n",
       "      <td>3.000000</td>\n",
       "      <td>3090.137500</td>\n",
       "      <td>24706.000000</td>\n",
       "      <td>23903.000000</td>\n",
       "      <td>1.862106e+06</td>\n",
       "      <td>1.228816e+06</td>\n",
       "      <td>455.000000</td>\n",
       "      <td>5328.500000</td>\n",
       "      <td>106.290000</td>\n",
       "    </tr>\n",
       "    <tr>\n",
       "      <th>50%</th>\n",
       "      <td>1.150000</td>\n",
       "      <td>3.000000</td>\n",
       "      <td>4208.185000</td>\n",
       "      <td>28637.000000</td>\n",
       "      <td>26409.000000</td>\n",
       "      <td>3.532657e+06</td>\n",
       "      <td>2.195215e+06</td>\n",
       "      <td>850.000000</td>\n",
       "      <td>7792.000000</td>\n",
       "      <td>144.600000</td>\n",
       "    </tr>\n",
       "    <tr>\n",
       "      <th>75%</th>\n",
       "      <td>1.297500</td>\n",
       "      <td>3.000000</td>\n",
       "      <td>5480.575000</td>\n",
       "      <td>29693.500000</td>\n",
       "      <td>31981.000000</td>\n",
       "      <td>7.830332e+06</td>\n",
       "      <td>4.549784e+06</td>\n",
       "      <td>1306.250000</td>\n",
       "      <td>14090.500000</td>\n",
       "      <td>209.350000</td>\n",
       "    </tr>\n",
       "    <tr>\n",
       "      <th>max</th>\n",
       "      <td>1.940000</td>\n",
       "      <td>3.000000</td>\n",
       "      <td>10000.000000</td>\n",
       "      <td>38813.000000</td>\n",
       "      <td>38813.000000</td>\n",
       "      <td>9.056076e+06</td>\n",
       "      <td>9.056076e+06</td>\n",
       "      <td>2764.000000</td>\n",
       "      <td>73892.000000</td>\n",
       "      <td>402.020000</td>\n",
       "    </tr>\n",
       "  </tbody>\n",
       "</table>\n",
       "</div>"
      ],
      "text/plain": [
       "           COUPON         NEW            HI      S_INCOME      E_INCOME  \\\n",
       "count  638.000000  638.000000    638.000000    638.000000    638.000000   \n",
       "mean     1.202335    2.753918   4442.141129  27759.860502  27663.727273   \n",
       "std      0.203821    0.760448   1724.267051   3596.207837   4611.325018   \n",
       "min      1.000000    0.000000   1230.480000  14600.000000  14600.000000   \n",
       "25%      1.040000    3.000000   3090.137500  24706.000000  23903.000000   \n",
       "50%      1.150000    3.000000   4208.185000  28637.000000  26409.000000   \n",
       "75%      1.297500    3.000000   5480.575000  29693.500000  31981.000000   \n",
       "max      1.940000    3.000000  10000.000000  38813.000000  38813.000000   \n",
       "\n",
       "              S_POP         E_POP     DISTANCE           PAX        FARE  \n",
       "count  6.380000e+02  6.380000e+02   638.000000    638.000000  638.000000  \n",
       "mean   4.557004e+06  3.194503e+06   975.653605  12782.214734  160.876677  \n",
       "std    3.010985e+06  2.735604e+06   646.242403  13202.228860   76.022436  \n",
       "min    2.983800e+04  1.117450e+05   114.000000   1504.000000   42.470000  \n",
       "25%    1.862106e+06  1.228816e+06   455.000000   5328.500000  106.290000  \n",
       "50%    3.532657e+06  2.195215e+06   850.000000   7792.000000  144.600000  \n",
       "75%    7.830332e+06  4.549784e+06  1306.250000  14090.500000  209.350000  \n",
       "max    9.056076e+06  9.056076e+06  2764.000000  73892.000000  402.020000  "
      ]
     },
     "execution_count": 11,
     "metadata": {},
     "output_type": "execute_result"
    }
   ],
   "source": [
    "# Summarize the data\n",
    "df.describe()"
   ]
  },
  {
   "attachments": {},
   "cell_type": "markdown",
   "metadata": {},
   "source": [
    "Let's select some features to explore"
   ]
  },
  {
   "cell_type": "code",
   "execution_count": 4,
   "metadata": {},
   "outputs": [
    {
     "data": {
      "text/html": [
       "<div>\n",
       "<style scoped>\n",
       "    .dataframe tbody tr th:only-of-type {\n",
       "        vertical-align: middle;\n",
       "    }\n",
       "\n",
       "    .dataframe tbody tr th {\n",
       "        vertical-align: top;\n",
       "    }\n",
       "\n",
       "    .dataframe thead th {\n",
       "        text-align: right;\n",
       "    }\n",
       "</style>\n",
       "<table border=\"1\" class=\"dataframe\">\n",
       "  <thead>\n",
       "    <tr style=\"text-align: right;\">\n",
       "      <th></th>\n",
       "      <th>S_INCOME</th>\n",
       "      <th>E_INCOME</th>\n",
       "      <th>FARE</th>\n",
       "    </tr>\n",
       "  </thead>\n",
       "  <tbody>\n",
       "    <tr>\n",
       "      <th>0</th>\n",
       "      <td>28637.0</td>\n",
       "      <td>21112.0</td>\n",
       "      <td>64.11</td>\n",
       "    </tr>\n",
       "    <tr>\n",
       "      <th>1</th>\n",
       "      <td>26993.0</td>\n",
       "      <td>29838.0</td>\n",
       "      <td>174.47</td>\n",
       "    </tr>\n",
       "    <tr>\n",
       "      <th>2</th>\n",
       "      <td>30124.0</td>\n",
       "      <td>29838.0</td>\n",
       "      <td>207.76</td>\n",
       "    </tr>\n",
       "    <tr>\n",
       "      <th>3</th>\n",
       "      <td>29260.0</td>\n",
       "      <td>29838.0</td>\n",
       "      <td>85.47</td>\n",
       "    </tr>\n",
       "    <tr>\n",
       "      <th>4</th>\n",
       "      <td>29260.0</td>\n",
       "      <td>29838.0</td>\n",
       "      <td>85.47</td>\n",
       "    </tr>\n",
       "    <tr>\n",
       "      <th>5</th>\n",
       "      <td>26046.0</td>\n",
       "      <td>29838.0</td>\n",
       "      <td>56.76</td>\n",
       "    </tr>\n",
       "    <tr>\n",
       "      <th>6</th>\n",
       "      <td>28637.0</td>\n",
       "      <td>29838.0</td>\n",
       "      <td>228.00</td>\n",
       "    </tr>\n",
       "    <tr>\n",
       "      <th>7</th>\n",
       "      <td>26752.0</td>\n",
       "      <td>29838.0</td>\n",
       "      <td>116.54</td>\n",
       "    </tr>\n",
       "    <tr>\n",
       "      <th>8</th>\n",
       "      <td>27211.0</td>\n",
       "      <td>29838.0</td>\n",
       "      <td>172.63</td>\n",
       "    </tr>\n",
       "  </tbody>\n",
       "</table>\n",
       "</div>"
      ],
      "text/plain": [
       "   S_INCOME  E_INCOME    FARE\n",
       "0   28637.0   21112.0   64.11\n",
       "1   26993.0   29838.0  174.47\n",
       "2   30124.0   29838.0  207.76\n",
       "3   29260.0   29838.0   85.47\n",
       "4   29260.0   29838.0   85.47\n",
       "5   26046.0   29838.0   56.76\n",
       "6   28637.0   29838.0  228.00\n",
       "7   26752.0   29838.0  116.54\n",
       "8   27211.0   29838.0  172.63"
      ]
     },
     "execution_count": 4,
     "metadata": {},
     "output_type": "execute_result"
    }
   ],
   "source": [
    "cdf = df[['S_INCOME', 'E_INCOME', 'FARE']]\n",
    "cdf.head(9)\n"
   ]
  },
  {
   "attachments": {},
   "cell_type": "markdown",
   "metadata": {},
   "source": [
    "We can plot each of the features"
   ]
  },
  {
   "cell_type": "code",
   "execution_count": 17,
   "metadata": {},
   "outputs": [
    {
     "data": {
      "image/png": "[encoded data removed]",
      "text/plain": [
       "<Figure size 640x480 with 4 Axes>"
      ]
     },
     "metadata": {},
     "output_type": "display_data"
    }
   ],
   "source": [
    "cdf.hist()\n",
    "plt.show()"
   ]
  },
  {
   "attachments": {},
   "cell_type": "markdown",
   "metadata": {},
   "source": [
    "Explore the relationships"
   ]
  },
  {
   "cell_type": "code",
   "execution_count": 20,
   "metadata": {},
   "outputs": [
    {
     "data": {
      "image/png": "[encoded data removed]",
      "text/plain": [
       "<Figure size 640x480 with 1 Axes>"
      ]
     },
     "metadata": {},
     "output_type": "display_data"
    }
   ],
   "source": [
    "plt.scatter(cdf.E_INCOME, cdf.FARE, color='blue')\n",
    "plt.xlabel(\"E Income\")\n",
    "plt.ylabel(\"Fare\")\n",
    "plt.show()"
   ]
  },
  {
   "attachments": {},
   "cell_type": "markdown",
   "metadata": {},
   "source": [
    "# Creating train and test dataset\n",
    "80% for training and 20% for testing."
   ]
  },
  {
   "cell_type": "code",
   "execution_count": 5,
   "metadata": {},
   "outputs": [],
   "source": [
    "msk = np.random.rand(len(df)) < 0.8\n",
    "train = cdf[msk]\n",
    "test = cdf[~msk]"
   ]
  },
  {
   "attachments": {},
   "cell_type": "markdown",
   "metadata": {},
   "source": [
    "# Simple Linear Regression Model"
   ]
  },
  {
   "cell_type": "code",
   "execution_count": 6,
   "metadata": {},
   "outputs": [
    {
     "name": "stdout",
     "output_type": "stream",
     "text": [
      "Coefficients [[0.00579568]]\n",
      "Intercepts [0.85836068]\n",
      "LinearRegression()\n"
     ]
    }
   ],
   "source": [
    "from sklearn import linear_model\n",
    "regr = linear_model.LinearRegression()\n",
    "train_x = np.asanyarray(train[['E_INCOME']])\n",
    "train_y = np.asanyarray(train[['FARE']])\n",
    "regr.fit(train_x, train_y)\n",
    "\n",
    "# The coefficients\n",
    "print(\"Coefficients\", regr.coef_)\n",
    "print(\"Intercepts\", regr.intercept_)\n",
    "print(regr)\n"
   ]
  },
  {
   "cell_type": "code",
   "execution_count": 12,
   "metadata": {},
   "outputs": [
    {
     "data": {
      "text/plain": [
       "Text(0, 0.5, 'Fare')"
      ]
     },
     "execution_count": 12,
     "metadata": {},
     "output_type": "execute_result"
    },
    {
     "data": {
      "image/png": "[encoded data removed]",
      "text/plain": [
       "<Figure size 640x480 with 1 Axes>"
      ]
     },
     "metadata": {},
     "output_type": "display_data"
    }
   ],
   "source": [
    "plt.scatter(train.E_INCOME, train.FARE, color='blue')\n",
    "plt.plot(train_x, regr.coef_[0][0]*train_x + regr.intercept_[0], '-r')\n",
    "plt.xlabel(\"E Income\")\n",
    "plt.ylabel(\"Fare\")\n"
   ]
  },
  {
   "attachments": {},
   "cell_type": "markdown",
   "metadata": {},
   "source": [
    "# Evaluation\n",
    "\n",
    "How do we evaluate our model?"
   ]
  },
  {
   "cell_type": "code",
   "execution_count": 20,
   "metadata": {},
   "outputs": [
    {
     "name": "stdout",
     "output_type": "stream",
     "text": [
      "Mean absolute error: 60.073094734110484\n",
      "Mean squared error: (MSE) 2.1382810647423\n",
      "R2-score 0.04\n"
     ]
    }
   ],
   "source": [
    "from sklearn.metrics import r2_score\n",
    "\n",
    "test_x = np.asanyarray(test[['E_INCOME']])\n",
    "test_y = np.asanyarray(test[['FARE']])\n",
    "test_y_ = regr.predict(test_x)\n",
    "\n",
    "# This function returns the mean absolute error.\n",
    "def MAE(y_, y):\n",
    "    return np.mean(np.absolute(y_ - y))\n",
    "\n",
    "\n",
    "#print(test_y_ - test_y) residuals\n",
    "print(\"Mean absolute error:\", MAE(test_y_, test_y))\n",
    "print(\"Mean squared error: (MSE)\", np.mean((test_y_ - test_y)**2))\n",
    "print(\"R2-score\", round(r2_score(test_y, test_y_),2))\n"
   ]
  }
 ],
 "metadata": {
  "kernelspec": {
   "display_name": "Python 3",
   "language": "python",
   "name": "python3"
  },
  "language_info": {
   "codemirror_mode": {
    "name": "ipython",
    "version": 3
   },
   "file_extension": ".py",
   "mimetype": "text/x-python",
   "name": "python",
   "nbconvert_exporter": "python",
   "pygments_lexer": "ipython3",
   "version": "3.11.1 (tags/v3.11.1:a7a450f, Dec  6 2022, 19:58:39) [MSC v.1934 64 bit (AMD64)]"
  },
  "orig_nbformat": 4,
  "vscode": {
   "interpreter": {
    "hash": "8b7f7d6de85688a137ceedeb7fe1b58bb9177370a25a4dd8805849846062f504"
   }
  }
 },
 "nbformat": 4,
 "nbformat_minor": 2
}
